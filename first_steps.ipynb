{
 "cells": [
  {
   "cell_type": "markdown",
   "metadata": {},
   "source": [
    "### First steps in Pyhton"
   ]
  },
  {
   "cell_type": "markdown",
   "metadata": {},
   "source": [
    "To RUN a Python script file (.py) just run `python yourfilename.py` on your terminal"
   ]
  },
  {
   "cell_type": "markdown",
   "metadata": {},
   "source": [
    "__COMMENTS in Python__"
   ]
  },
  {
   "cell_type": "code",
   "execution_count": 2,
   "metadata": {},
   "outputs": [
    {
     "data": {
      "text/plain": [
       "' this is also\\na\\nmultiline comment'"
      ]
     },
     "execution_count": 2,
     "metadata": {},
     "output_type": "execute_result"
    }
   ],
   "source": [
    "# this is a comment\n",
    "\n",
    "''' this is a\n",
    "multiline comment\n",
    "'''\n",
    "\n",
    "\"\"\" this is also\n",
    "a\n",
    "multiline comment\"\"\""
   ]
  },
  {
   "cell_type": "markdown",
   "metadata": {},
   "source": [
    "__VARIABLE TYPES__"
   ]
  },
  {
   "cell_type": "markdown",
   "metadata": {},
   "source": [
    "Strings"
   ]
  },
  {
   "cell_type": "code",
   "execution_count": 7,
   "metadata": {},
   "outputs": [
    {
     "name": "stdout",
     "output_type": "stream",
     "text": [
      "Hello World!\n",
      "Hello Alex\n",
      "Hello Alex\n",
      "Hello Alex!\n"
     ]
    }
   ],
   "source": [
    "# in python can be expressed with single and double quotes, so:\n",
    "label = \"This is a string\"\n",
    "\n",
    "# is the same as\n",
    "label = 'This is a string'\n",
    "\n",
    "# OUTPUT using the print function\n",
    "print(\"Hello World!\")  # print hello world\n",
    "\n",
    "name = \"Alex\"\n",
    "\n",
    "print(\"Hello \" + name)  # print hello name\n",
    "print(\"Hello\", name)  # same, using two arguments\n",
    "print(f\"Hello {name}!\")  # same without + concatenation"
   ]
  },
  {
   "cell_type": "markdown",
   "metadata": {},
   "source": [
    "__Numbers (integers and floats)__"
   ]
  },
  {
   "cell_type": "code",
   "execution_count": 8,
   "metadata": {},
   "outputs": [
    {
     "name": "stdout",
     "output_type": "stream",
     "text": [
      "zero + one - two * three =  -5\n",
      "a + b - c * two ** three = -24.1\n"
     ]
    }
   ],
   "source": [
    "# next are integers\n",
    "zero = 0\n",
    "one = 1\n",
    "two = 2\n",
    "three = 3\n",
    "\n",
    "# next are floats\n",
    "a = 0.5\n",
    "b = 1.0\n",
    "c = 3.2\n",
    "\n",
    "# you can make operations with this numbers\n",
    "print(\"zero + one - two * three = \", zero + one - two * three)\n",
    "# also with floats (** is power operator)\n",
    "print(f\"a + b - c * two ** three = {a + b - c * two ** three}\")"
   ]
  },
  {
   "cell_type": "markdown",
   "metadata": {},
   "source": [
    "__Booleans__"
   ]
  },
  {
   "cell_type": "code",
   "execution_count": 12,
   "metadata": {},
   "outputs": [
    {
     "name": "stdout",
     "output_type": "stream",
     "text": [
      "False\n"
     ]
    },
    {
     "data": {
      "text/plain": [
       "True"
      ]
     },
     "execution_count": 12,
     "metadata": {},
     "output_type": "execute_result"
    }
   ],
   "source": [
    "is_number = False\n",
    "is_string = True\n",
    "\n",
    "print(is_number)\n",
    "is_string"
   ]
  },
  {
   "cell_type": "markdown",
   "metadata": {},
   "source": [
    "__Lists__"
   ]
  },
  {
   "cell_type": "code",
   "execution_count": 13,
   "metadata": {},
   "outputs": [
    {
     "name": "stdout",
     "output_type": "stream",
     "text": [
      "li[2] = 2\n",
      "lo[1] = b\n"
     ]
    }
   ],
   "source": [
    "l = []  # empty list\n",
    "li = [0, 1, 2, 3]  # integer list\n",
    "lo = [\"a\", \"b\", \"c\", \"d\"]  # string list\n",
    "\n",
    "# to add elements into a list\n",
    "l.append(a)\n",
    "l.append(b)\n",
    "l.append(c)\n",
    "\n",
    "# list can be accessed by index value\n",
    "print(f\"li[2] = {li[2]}\")\n",
    "print(f\"lo[1] = {lo[1]}\")"
   ]
  },
  {
   "cell_type": "markdown",
   "metadata": {},
   "source": [
    "__Tuples__"
   ]
  },
  {
   "cell_type": "code",
   "execution_count": 15,
   "metadata": {},
   "outputs": [
    {
     "name": "stdout",
     "output_type": "stream",
     "text": [
      "tup[2] = True\n"
     ]
    }
   ],
   "source": [
    "tup = (0, \"game\", True, 3, \"PYTHON\")\n",
    "print(\"tup[2] =\", tup[2])  # they can also be accessed by index value"
   ]
  },
  {
   "cell_type": "markdown",
   "metadata": {},
   "source": [
    "__Dictionaries__"
   ]
  },
  {
   "cell_type": "code",
   "execution_count": 17,
   "metadata": {},
   "outputs": [
    {
     "name": "stdout",
     "output_type": "stream",
     "text": [
      "name: Alex\n"
     ]
    }
   ],
   "source": [
    "dic = {}  # empty dictionary\n",
    "dic[\"key\"] = \"value\"  # add a key-value pair into the dictionary\n",
    "\n",
    "# they can also be filled this way\n",
    "dic_new = {\n",
    "    \"name\": \"Alex\",\n",
    "    \"surname\": \"Vidal\",\n",
    "    \"age\": 29,\n",
    "    \"gender\": \"male\",\n",
    "    \"isMale\": True\n",
    "}\n",
    "\n",
    "# dict values can be accessed by key as index\n",
    "print(f\"name: {dic_new['name']}\")"
   ]
  },
  {
   "cell_type": "markdown",
   "metadata": {},
   "source": [
    "__Check variable types__"
   ]
  },
  {
   "cell_type": "code",
   "execution_count": 18,
   "metadata": {},
   "outputs": [
    {
     "name": "stdout",
     "output_type": "stream",
     "text": [
      "<class 'dict'>\n",
      "<class 'tuple'>\n",
      "<class 'list'>\n",
      "<class 'float'>\n",
      "<class 'int'>\n",
      "<class 'str'>\n"
     ]
    }
   ],
   "source": [
    "# all variable types can be checked using the built-in function \"type\"\n",
    "print(type(dic))\n",
    "print(type(tup))\n",
    "print(type(l))\n",
    "print(type(a))\n",
    "print(type(one))\n",
    "print(type(label))"
   ]
  }
 ],
 "metadata": {
  "kernelspec": {
   "display_name": "Python 3",
   "language": "python",
   "name": "python3"
  },
  "language_info": {
   "codemirror_mode": {
    "name": "ipython",
    "version": 3
   },
   "file_extension": ".py",
   "mimetype": "text/x-python",
   "name": "python",
   "nbconvert_exporter": "python",
   "pygments_lexer": "ipython3",
   "version": "3.8.2"
  },
  "widgets": {
   "application/vnd.jupyter.widget-state+json": {
    "state": {},
    "version_major": 2,
    "version_minor": 0
   }
  }
 },
 "nbformat": 4,
 "nbformat_minor": 4
}
